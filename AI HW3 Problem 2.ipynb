{
 "cells": [
  {
   "cell_type": "code",
   "execution_count": 2,
   "metadata": {
    "collapsed": true,
    "deletable": true,
    "editable": true
   },
   "outputs": [],
   "source": [
    "import pandas as pd\n",
    "import numpy as np\n",
    "import sklearn\n",
    "import sklearn.preprocessing as PP\n",
    "import sys\n",
    "from sklearn import linear_model"
   ]
  },
  {
   "cell_type": "code",
   "execution_count": 3,
   "metadata": {
    "collapsed": true,
    "deletable": true,
    "editable": true
   },
   "outputs": [],
   "source": [
    "#data = pd.read_csv('/Users/JJ/Documents/SIPA/Semester 4/Artificial Intelligence/assignment3/input2.csv', header=None, names=['age', 'weight', 'height'])"
   ]
  },
  {
   "cell_type": "code",
   "execution_count": 4,
   "metadata": {
    "collapsed": true,
    "deletable": true,
    "editable": true
   },
   "outputs": [],
   "source": [
    "sys_input = sys.argv\n",
    "data_path = sys_input[1]\n",
    "output_path = sys_input[2]\n",
    "data = pd.read_csv(data_path, header=None, names=['age', 'weight', 'height'])"
   ]
  },
  {
   "cell_type": "code",
   "execution_count": 5,
   "metadata": {
    "collapsed": false,
    "deletable": true,
    "editable": true
   },
   "outputs": [],
   "source": [
    "scaler = PP.StandardScaler()\n",
    "data[['age', 'weight']] = scaler.fit_transform(data[['age', 'weight']])"
   ]
  },
  {
   "cell_type": "code",
   "execution_count": 6,
   "metadata": {
    "collapsed": false,
    "deletable": true,
    "editable": true
   },
   "outputs": [],
   "source": [
    "points = []\n",
    "for n in range(data.shape[0]):\n",
    "    points.append([data['age'][n],data['weight'][n]])"
   ]
  },
  {
   "cell_type": "code",
   "execution_count": 7,
   "metadata": {
    "collapsed": true,
    "deletable": true,
    "editable": true
   },
   "outputs": [],
   "source": [
    "output = pd.DataFrame()"
   ]
  },
  {
   "cell_type": "code",
   "execution_count": 8,
   "metadata": {
    "collapsed": false,
    "deletable": true,
    "editable": true
   },
   "outputs": [],
   "source": [
    "def run_gradient(learn_rate):\n",
    "    n_samples, n_features = data.shape[0], data.shape[1]-1\n",
    "    np.random.seed(0)\n",
    "    y = data['height']\n",
    "    X = points\n",
    "    clf = linear_model.SGDRegressor(n_iter=100, alpha=learn_rate)\n",
    "    clf.fit(X, y, coef_init=[0,0])\n",
    "    return [learn_rate, 100, clf.intercept_, clf.coef_]"
   ]
  },
  {
   "cell_type": "code",
   "execution_count": 24,
   "metadata": {
    "collapsed": false,
    "deletable": true,
    "editable": true
   },
   "outputs": [],
   "source": [
    "learning_rates = [0.001, 0.005, 0.01, 0.05, 0.1, 0.5, 1, 5, 10, .65]\n",
    "output = []\n",
    "\n",
    "for l in learning_rates:\n",
    "    output.append(run_gradient(l))"
   ]
  },
  {
   "cell_type": "code",
   "execution_count": 25,
   "metadata": {
    "collapsed": false,
    "deletable": true,
    "editable": true
   },
   "outputs": [],
   "source": [
    "output_formatted = []\n",
    "\n",
    "for i in range(len(output)):\n",
    "    item1 = output[i][0]\n",
    "    item2 = output[i][1]\n",
    "    item3 = float(output[i][2])\n",
    "    item4 = output[i][3][0]\n",
    "    item5 = output[i][3][1]\n",
    "    output_formatted.append([item1, item2, item3, item4, item5])"
   ]
  },
  {
   "cell_type": "code",
   "execution_count": 26,
   "metadata": {
    "collapsed": false,
    "deletable": true,
    "editable": true
   },
   "outputs": [
    {
     "data": {
      "text/html": [
       "<div>\n",
       "<table border=\"1\" class=\"dataframe\">\n",
       "  <thead>\n",
       "    <tr style=\"text-align: right;\">\n",
       "      <th></th>\n",
       "      <th>0</th>\n",
       "      <th>1</th>\n",
       "      <th>2</th>\n",
       "      <th>3</th>\n",
       "      <th>4</th>\n",
       "    </tr>\n",
       "  </thead>\n",
       "  <tbody>\n",
       "    <tr>\n",
       "      <th>0</th>\n",
       "      <td>0.001</td>\n",
       "      <td>100</td>\n",
       "      <td>1.096379</td>\n",
       "      <td>0.125205</td>\n",
       "      <td>0.004671</td>\n",
       "    </tr>\n",
       "    <tr>\n",
       "      <th>1</th>\n",
       "      <td>0.005</td>\n",
       "      <td>100</td>\n",
       "      <td>1.096380</td>\n",
       "      <td>0.124305</td>\n",
       "      <td>0.005272</td>\n",
       "    </tr>\n",
       "    <tr>\n",
       "      <th>2</th>\n",
       "      <td>0.010</td>\n",
       "      <td>100</td>\n",
       "      <td>1.096380</td>\n",
       "      <td>0.123203</td>\n",
       "      <td>0.006003</td>\n",
       "    </tr>\n",
       "    <tr>\n",
       "      <th>3</th>\n",
       "      <td>0.050</td>\n",
       "      <td>100</td>\n",
       "      <td>1.096385</td>\n",
       "      <td>0.115224</td>\n",
       "      <td>0.011084</td>\n",
       "    </tr>\n",
       "    <tr>\n",
       "      <th>4</th>\n",
       "      <td>0.100</td>\n",
       "      <td>100</td>\n",
       "      <td>1.096391</td>\n",
       "      <td>0.106974</td>\n",
       "      <td>0.015892</td>\n",
       "    </tr>\n",
       "    <tr>\n",
       "      <th>5</th>\n",
       "      <td>0.500</td>\n",
       "      <td>100</td>\n",
       "      <td>1.096432</td>\n",
       "      <td>0.072577</td>\n",
       "      <td>0.028312</td>\n",
       "    </tr>\n",
       "    <tr>\n",
       "      <th>6</th>\n",
       "      <td>1.000</td>\n",
       "      <td>100</td>\n",
       "      <td>1.096468</td>\n",
       "      <td>0.054615</td>\n",
       "      <td>0.027845</td>\n",
       "    </tr>\n",
       "    <tr>\n",
       "      <th>7</th>\n",
       "      <td>5.000</td>\n",
       "      <td>100</td>\n",
       "      <td>1.096564</td>\n",
       "      <td>0.019909</td>\n",
       "      <td>0.013529</td>\n",
       "    </tr>\n",
       "    <tr>\n",
       "      <th>8</th>\n",
       "      <td>10.000</td>\n",
       "      <td>100</td>\n",
       "      <td>1.096590</td>\n",
       "      <td>0.011128</td>\n",
       "      <td>0.007911</td>\n",
       "    </tr>\n",
       "    <tr>\n",
       "      <th>9</th>\n",
       "      <td>0.650</td>\n",
       "      <td>100</td>\n",
       "      <td>1.096444</td>\n",
       "      <td>0.065784</td>\n",
       "      <td>0.028766</td>\n",
       "    </tr>\n",
       "  </tbody>\n",
       "</table>\n",
       "</div>"
      ],
      "text/plain": [
       "        0    1         2         3         4\n",
       "0   0.001  100  1.096379  0.125205  0.004671\n",
       "1   0.005  100  1.096380  0.124305  0.005272\n",
       "2   0.010  100  1.096380  0.123203  0.006003\n",
       "3   0.050  100  1.096385  0.115224  0.011084\n",
       "4   0.100  100  1.096391  0.106974  0.015892\n",
       "5   0.500  100  1.096432  0.072577  0.028312\n",
       "6   1.000  100  1.096468  0.054615  0.027845\n",
       "7   5.000  100  1.096564  0.019909  0.013529\n",
       "8  10.000  100  1.096590  0.011128  0.007911\n",
       "9   0.650  100  1.096444  0.065784  0.028766"
      ]
     },
     "execution_count": 26,
     "metadata": {},
     "output_type": "execute_result"
    }
   ],
   "source": [
    "pd.DataFrame(output_formatted)"
   ]
  },
  {
   "cell_type": "code",
   "execution_count": null,
   "metadata": {
    "collapsed": true,
    "deletable": true,
    "editable": true
   },
   "outputs": [],
   "source": [
    "pd.DataFrame(output_formatted).to_csv(output_path, header=False, index=False)"
   ]
  }
 ],
 "metadata": {
  "hide_input": false,
  "kernelspec": {
   "display_name": "Python 3",
   "language": "python",
   "name": "python3"
  },
  "language_info": {
   "codemirror_mode": {
    "name": "ipython",
    "version": 3
   },
   "file_extension": ".py",
   "mimetype": "text/x-python",
   "name": "python",
   "nbconvert_exporter": "python",
   "pygments_lexer": "ipython3",
   "version": "3.5.2"
  },
  "nav_menu": {},
  "toc": {
   "navigate_menu": true,
   "number_sections": true,
   "sideBar": true,
   "threshold": 6,
   "toc_cell": false,
   "toc_section_display": "block",
   "toc_window_display": false
  }
 },
 "nbformat": 4,
 "nbformat_minor": 0
}
