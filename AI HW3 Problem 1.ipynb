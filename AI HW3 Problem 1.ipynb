{
 "cells": [
  {
   "cell_type": "code",
   "execution_count": null,
   "metadata": {
    "collapsed": true
   },
   "outputs": [],
   "source": [
    "import pandas as pd\n",
    "import numpy as np\n",
    "import sklearn\n",
    "from sklearn.linear_model import perceptron as P\n",
    "import sys"
   ]
  },
  {
   "cell_type": "code",
   "execution_count": null,
   "metadata": {
    "collapsed": false
   },
   "outputs": [],
   "source": [
    "#data = pd.read_csv('input1.csv', header=None, names=['feature_1', 'feature_2', 'label'])"
   ]
  },
  {
   "cell_type": "code",
   "execution_count": null,
   "metadata": {
    "collapsed": false
   },
   "outputs": [],
   "source": [
    "sys_input = sys.argv\n",
    "data_path = sys_input[1]\n",
    "output_path = sys_input[2]\n",
    "data = pd.read_csv(data_path, header=None, names=['feature_1', 'feature_2', 'label'])"
   ]
  },
  {
   "cell_type": "code",
   "execution_count": null,
   "metadata": {
    "collapsed": true
   },
   "outputs": [],
   "source": [
    "prev_set = [0,0]"
   ]
  },
  {
   "cell_type": "code",
   "execution_count": null,
   "metadata": {
    "collapsed": false
   },
   "outputs": [],
   "source": [
    "model = P.Perceptron(n_iter=1, warm_start=True)"
   ]
  },
  {
   "cell_type": "code",
   "execution_count": null,
   "metadata": {
    "collapsed": false
   },
   "outputs": [],
   "source": [
    "model.fit(data[['feature_1', 'feature_2']],data['label'])\n",
    "output = pd.DataFrame()\n",
    "output = output.append([model.coef_[0,0], model.coef_[0,1], model.intercept_])\n",
    "output = output.T"
   ]
  },
  {
   "cell_type": "code",
   "execution_count": null,
   "metadata": {
    "collapsed": false
   },
   "outputs": [],
   "source": [
    "def same_as_before(prev_set):\n",
    "    counter = 0\n",
    "    temp_set = []\n",
    "    for i in range(2):\n",
    "        if model.coef_[0,i]==prev_set[i]:\n",
    "            counter += 1\n",
    "        temp_set.append(model.coef_[0,i])\n",
    "        prev_set[i] = model.coef_[0,i]\n",
    "    if counter == 2:\n",
    "        return True\n",
    "    else:\n",
    "        prev_set = temp_set\n",
    "        return False"
   ]
  },
  {
   "cell_type": "code",
   "execution_count": null,
   "metadata": {
    "collapsed": false
   },
   "outputs": [],
   "source": [
    "n_times = 0\n",
    "\n",
    "while not same_as_before(prev_set):\n",
    "    model.fit(data[['feature_1', 'feature_2']],data['label'])\n",
    "    temp_df = pd.DataFrame()\n",
    "    temp_df = temp_df.append([model.coef_[0,0], model.coef_[0,1], model.intercept_])\n",
    "    temp_df = temp_df.T\n",
    "    output = output.append(temp_df)\n",
    "    n_times += 1\n",
    "    if n_times > 1000:\n",
    "        print('hit limit')\n",
    "        break"
   ]
  },
  {
   "cell_type": "code",
   "execution_count": null,
   "metadata": {
    "collapsed": false
   },
   "outputs": [],
   "source": [
    "#fix formatting on the weight\n",
    "for r in range(output.shape[0]):\n",
    "    output.iloc[r,2] = int(output.iloc[r,2])"
   ]
  },
  {
   "cell_type": "code",
   "execution_count": null,
   "metadata": {
    "collapsed": false
   },
   "outputs": [],
   "source": [
    "output.to_csv(output_path, header=False, index=False)"
   ]
  }
 ],
 "metadata": {
  "hide_input": false,
  "kernelspec": {
   "display_name": "Python 3",
   "language": "python",
   "name": "python3"
  },
  "language_info": {
   "codemirror_mode": {
    "name": "ipython",
    "version": 3
   },
   "file_extension": ".py",
   "mimetype": "text/x-python",
   "name": "python",
   "nbconvert_exporter": "python",
   "pygments_lexer": "ipython3",
   "version": "3.5.2"
  },
  "nav_menu": {},
  "toc": {
   "navigate_menu": true,
   "number_sections": true,
   "sideBar": true,
   "threshold": 6,
   "toc_cell": false,
   "toc_section_display": "block",
   "toc_window_display": false
  }
 },
 "nbformat": 4,
 "nbformat_minor": 0
}
